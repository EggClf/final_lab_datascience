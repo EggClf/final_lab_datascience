{
 "cells": [
  {
   "cell_type": "code",
   "execution_count": 113,
   "id": "8cd709c5-0557-4788-950c-2273f84ccbbc",
   "metadata": {},
   "outputs": [],
   "source": [
    "import pandas as pd\n",
    "from sklearn.preprocessing import StandardScaler\n",
    "from sklearn.cluster import KMeans\n",
    "from sklearn.cluster import DBSCAN\n",
    "import matplotlib.pyplot as plt\n",
    "import numpy as np"
   ]
  },
  {
   "cell_type": "markdown",
   "id": "c84cb72f-3014-4b17-9703-9f0501339324",
   "metadata": {},
   "source": [
    "### Review data"
   ]
  },
  {
   "cell_type": "code",
   "execution_count": 55,
   "id": "f2ef4451-b988-43f8-99a9-f9b180e75b1b",
   "metadata": {},
   "outputs": [],
   "source": [
    "data = pd.read_csv(\"preprocessed_data.csv\")\n",
    "data.head()\n",
    "df=data.copy()"
   ]
  },
  {
   "cell_type": "code",
   "execution_count": 56,
   "id": "2b5a8c77-dc68-45af-b4fe-49a2a87cd541",
   "metadata": {},
   "outputs": [
    {
     "data": {
      "text/html": [
       "<div>\n",
       "<style scoped>\n",
       "    .dataframe tbody tr th:only-of-type {\n",
       "        vertical-align: middle;\n",
       "    }\n",
       "\n",
       "    .dataframe tbody tr th {\n",
       "        vertical-align: top;\n",
       "    }\n",
       "\n",
       "    .dataframe thead th {\n",
       "        text-align: right;\n",
       "    }\n",
       "</style>\n",
       "<table border=\"1\" class=\"dataframe\">\n",
       "  <thead>\n",
       "    <tr style=\"text-align: right;\">\n",
       "      <th></th>\n",
       "      <th>ranked</th>\n",
       "      <th>score</th>\n",
       "      <th>popularity</th>\n",
       "      <th>favorite</th>\n",
       "      <th>published</th>\n",
       "      <th>serialization</th>\n",
       "      <th>reading</th>\n",
       "      <th>completed</th>\n",
       "      <th>dropped</th>\n",
       "      <th>plan_to_read</th>\n",
       "      <th>genre</th>\n",
       "    </tr>\n",
       "  </thead>\n",
       "  <tbody>\n",
       "    <tr>\n",
       "      <th>0</th>\n",
       "      <td>1</td>\n",
       "      <td>9.47</td>\n",
       "      <td>1</td>\n",
       "      <td>122974</td>\n",
       "      <td>1989</td>\n",
       "      <td>221</td>\n",
       "      <td>364280</td>\n",
       "      <td>87307</td>\n",
       "      <td>10263</td>\n",
       "      <td>154118</td>\n",
       "      <td>3.0</td>\n",
       "    </tr>\n",
       "    <tr>\n",
       "      <th>1</th>\n",
       "      <td>2</td>\n",
       "      <td>9.30</td>\n",
       "      <td>26</td>\n",
       "      <td>42935</td>\n",
       "      <td>2004</td>\n",
       "      <td>210</td>\n",
       "      <td>34922</td>\n",
       "      <td>162358</td>\n",
       "      <td>2141</td>\n",
       "      <td>50652</td>\n",
       "      <td>8.0</td>\n",
       "    </tr>\n",
       "    <tr>\n",
       "      <th>2</th>\n",
       "      <td>3</td>\n",
       "      <td>9.24</td>\n",
       "      <td>15</td>\n",
       "      <td>40221</td>\n",
       "      <td>1998</td>\n",
       "      <td>161</td>\n",
       "      <td>108564</td>\n",
       "      <td>81383</td>\n",
       "      <td>5054</td>\n",
       "      <td>145679</td>\n",
       "      <td>3.0</td>\n",
       "    </tr>\n",
       "    <tr>\n",
       "      <th>3</th>\n",
       "      <td>4</td>\n",
       "      <td>9.22</td>\n",
       "      <td>3</td>\n",
       "      <td>114647</td>\n",
       "      <td>1997</td>\n",
       "      <td>189</td>\n",
       "      <td>465243</td>\n",
       "      <td>30242</td>\n",
       "      <td>18817</td>\n",
       "      <td>46908</td>\n",
       "      <td>10.0</td>\n",
       "    </tr>\n",
       "    <tr>\n",
       "      <th>4</th>\n",
       "      <td>5</td>\n",
       "      <td>9.15</td>\n",
       "      <td>29</td>\n",
       "      <td>20528</td>\n",
       "      <td>1994</td>\n",
       "      <td>19</td>\n",
       "      <td>33413</td>\n",
       "      <td>94357</td>\n",
       "      <td>2754</td>\n",
       "      <td>97297</td>\n",
       "      <td>3.0</td>\n",
       "    </tr>\n",
       "  </tbody>\n",
       "</table>\n",
       "</div>"
      ],
      "text/plain": [
       "   ranked  score  popularity  favorite  published  serialization  reading  \\\n",
       "0       1   9.47           1    122974       1989            221   364280   \n",
       "1       2   9.30          26     42935       2004            210    34922   \n",
       "2       3   9.24          15     40221       1998            161   108564   \n",
       "3       4   9.22           3    114647       1997            189   465243   \n",
       "4       5   9.15          29     20528       1994             19    33413   \n",
       "\n",
       "   completed  dropped  plan_to_read  genre  \n",
       "0      87307    10263        154118    3.0  \n",
       "1     162358     2141         50652    8.0  \n",
       "2      81383     5054        145679    3.0  \n",
       "3      30242    18817         46908   10.0  \n",
       "4      94357     2754         97297    3.0  "
      ]
     },
     "execution_count": 56,
     "metadata": {},
     "output_type": "execute_result"
    }
   ],
   "source": [
    "data=data.drop(['name','description'],axis='columns')\n",
    "data.head()"
   ]
  },
  {
   "cell_type": "code",
   "execution_count": 114,
   "id": "f8d49275-c480-438c-9747-34483dd12ebe",
   "metadata": {},
   "outputs": [],
   "source": [
    "scaler = StandardScaler()\n",
    "X_scaled = scaler.fit_transform(data)  #standardizing before fit"
   ]
  },
  {
   "cell_type": "markdown",
   "id": "ba2d007a-3445-4348-b20e-a1e8f5e5e768",
   "metadata": {
    "jp-MarkdownHeadingCollapsed": true
   },
   "source": [
    "### K-Means"
   ]
  },
  {
   "cell_type": "code",
   "execution_count": 100,
   "id": "c2cb1ddd-eb8c-4973-9c75-0c2d4d989506",
   "metadata": {},
   "outputs": [],
   "source": [
    "def k_mean(n):\n",
    "    kmeans = KMeans(n_clusters=n,n_init=100) #số cluster,n_init là siêu tham số\n",
    "    y_pred=kmeans.fit_predict(X_scaled)\n",
    "    return y_pred"
   ]
  },
  {
   "cell_type": "markdown",
   "id": "bd4561b4-0f47-415e-ad6a-ca39c466e8bf",
   "metadata": {},
   "source": [
    "#### Tìm kiếm số cluster tốt nhất dựa vào silhouette_score\n"
   ]
  },
  {
   "cell_type": "markdown",
   "id": "037f17c6-b9f1-4632-9141-5c0c635801fe",
   "metadata": {},
   "source": [
    "**silhouette_score** là mean của hệ số silhouette trên tất cả điểm, mỗi điểm có hệ số silhouette được tính bằng $(b-a)/max(a,b)$.\n",
    "\n",
    "Trong đó $a$ là khoảng cách trung bình của mỗi điểm tới điểm khác trong cùng 1 cluster và $b$ là khoảng cách trung bình của điểm đó tới cluster gần nhất. Do đó silhouette_score có miền từ -1 đến +1, nếu càng gần 1 nghĩa là điểm được gom nhóm tốt trong cluster đó và xa với các cluster khác, trong khi đó càng gần 0 thì các điểm càng gần cluster boundary.\n"
   ]
  },
  {
   "cell_type": "code",
   "execution_count": 105,
   "id": "1bfd8ea4-cc50-4739-9285-2619675f98bb",
   "metadata": {},
   "outputs": [],
   "source": [
    "from sklearn.metrics import silhouette_score\n",
    "score={}\n",
    "for i in range (2,21):\n",
    "    score[i]= silhouette_score(X_scaled,k_mean(i)) #một dictionary với key là số cluster còn value là silhouette_score cho cluster đó"
   ]
  },
  {
   "cell_type": "code",
   "execution_count": 107,
   "id": "6e5343a9-1dea-43a8-ba97-1009ca65331c",
   "metadata": {},
   "outputs": [
    {
     "data": {
      "image/png": "[encoded data removed]",
      "text/plain": [
       "<Figure size 1000x500 with 1 Axes>"
      ]
     },
     "metadata": {},
     "output_type": "display_data"
    }
   ],
   "source": [
    "keys = score.keys()\n",
    "values = score.values()\n",
    "#plot dictionary for choosing good number of cluster\n",
    "plt.figure(figsize=(10,5))\n",
    "plt.plot(keys, values)\n",
    "plt.xticks(np.arange(len(keys)), keys)\n",
    "plt.xlabel('number of cluster')\n",
    "plt.ylabel('silhouette score')\n",
    "plt.title('Selecting the number of clusters n using the sihouette score')\n",
    "plt.show()"
   ]
  },
  {
   "cell_type": "markdown",
   "id": "a124280a-e7a3-42bf-810f-855aa367985e",
   "metadata": {},
   "source": [
    "**Dựa vào biểu đồ ta có thể thấy nên chọn cluster là 7**"
   ]
  },
  {
   "cell_type": "code",
   "execution_count": 110,
   "id": "9236d92b-6567-42ef-895b-6e11119e9ea8",
   "metadata": {},
   "outputs": [
    {
     "data": {
      "text/html": [
       "<div>\n",
       "<style scoped>\n",
       "    .dataframe tbody tr th:only-of-type {\n",
       "        vertical-align: middle;\n",
       "    }\n",
       "\n",
       "    .dataframe tbody tr th {\n",
       "        vertical-align: top;\n",
       "    }\n",
       "\n",
       "    .dataframe thead th {\n",
       "        text-align: right;\n",
       "    }\n",
       "</style>\n",
       "<table border=\"1\" class=\"dataframe\">\n",
       "  <thead>\n",
       "    <tr style=\"text-align: right;\">\n",
       "      <th></th>\n",
       "      <th>name</th>\n",
       "      <th>ranked</th>\n",
       "      <th>score</th>\n",
       "      <th>popularity</th>\n",
       "      <th>favorite</th>\n",
       "      <th>published</th>\n",
       "      <th>description</th>\n",
       "      <th>serialization</th>\n",
       "      <th>reading</th>\n",
       "      <th>completed</th>\n",
       "      <th>dropped</th>\n",
       "      <th>plan_to_read</th>\n",
       "      <th>genre</th>\n",
       "      <th>group</th>\n",
       "    </tr>\n",
       "  </thead>\n",
       "  <tbody>\n",
       "    <tr>\n",
       "      <th>0</th>\n",
       "      <td>Berserk</td>\n",
       "      <td>1</td>\n",
       "      <td>9.47</td>\n",
       "      <td>1</td>\n",
       "      <td>122974</td>\n",
       "      <td>1989</td>\n",
       "      <td>gut former mercenari known black swordsman rev...</td>\n",
       "      <td>221</td>\n",
       "      <td>364280</td>\n",
       "      <td>87307</td>\n",
       "      <td>10263</td>\n",
       "      <td>154118</td>\n",
       "      <td>3.0</td>\n",
       "      <td>2</td>\n",
       "    </tr>\n",
       "    <tr>\n",
       "      <th>1</th>\n",
       "      <td>JoJo no Kimyou na Bouken Part 7: Steel Ball Run</td>\n",
       "      <td>2</td>\n",
       "      <td>9.30</td>\n",
       "      <td>26</td>\n",
       "      <td>42935</td>\n",
       "      <td>2004</td>\n",
       "      <td>american old west world greatest race begin th...</td>\n",
       "      <td>210</td>\n",
       "      <td>34922</td>\n",
       "      <td>162358</td>\n",
       "      <td>2141</td>\n",
       "      <td>50652</td>\n",
       "      <td>8.0</td>\n",
       "      <td>6</td>\n",
       "    </tr>\n",
       "    <tr>\n",
       "      <th>2</th>\n",
       "      <td>Vagabond</td>\n",
       "      <td>3</td>\n",
       "      <td>9.24</td>\n",
       "      <td>15</td>\n",
       "      <td>40221</td>\n",
       "      <td>1998</td>\n",
       "      <td>16th centuri japan shinmen takez wild rough yo...</td>\n",
       "      <td>161</td>\n",
       "      <td>108564</td>\n",
       "      <td>81383</td>\n",
       "      <td>5054</td>\n",
       "      <td>145679</td>\n",
       "      <td>3.0</td>\n",
       "      <td>2</td>\n",
       "    </tr>\n",
       "    <tr>\n",
       "      <th>3</th>\n",
       "      <td>One Piece</td>\n",
       "      <td>4</td>\n",
       "      <td>9.22</td>\n",
       "      <td>3</td>\n",
       "      <td>114647</td>\n",
       "      <td>1997</td>\n",
       "      <td>gol roger man refer king pirat set execut worl...</td>\n",
       "      <td>189</td>\n",
       "      <td>465243</td>\n",
       "      <td>30242</td>\n",
       "      <td>18817</td>\n",
       "      <td>46908</td>\n",
       "      <td>10.0</td>\n",
       "      <td>2</td>\n",
       "    </tr>\n",
       "    <tr>\n",
       "      <th>4</th>\n",
       "      <td>Monster</td>\n",
       "      <td>5</td>\n",
       "      <td>9.15</td>\n",
       "      <td>29</td>\n",
       "      <td>20528</td>\n",
       "      <td>1994</td>\n",
       "      <td>kenzou tenma renown japanes neurosurgeon work ...</td>\n",
       "      <td>19</td>\n",
       "      <td>33413</td>\n",
       "      <td>94357</td>\n",
       "      <td>2754</td>\n",
       "      <td>97297</td>\n",
       "      <td>3.0</td>\n",
       "      <td>6</td>\n",
       "    </tr>\n",
       "  </tbody>\n",
       "</table>\n",
       "</div>"
      ],
      "text/plain": [
       "                                              name  ranked  score  popularity  \\\n",
       "0                                          Berserk       1   9.47           1   \n",
       "1  JoJo no Kimyou na Bouken Part 7: Steel Ball Run       2   9.30          26   \n",
       "2                                         Vagabond       3   9.24          15   \n",
       "3                                        One Piece       4   9.22           3   \n",
       "4                                          Monster       5   9.15          29   \n",
       "\n",
       "   favorite  published                                        description  \\\n",
       "0    122974       1989  gut former mercenari known black swordsman rev...   \n",
       "1     42935       2004  american old west world greatest race begin th...   \n",
       "2     40221       1998  16th centuri japan shinmen takez wild rough yo...   \n",
       "3    114647       1997  gol roger man refer king pirat set execut worl...   \n",
       "4     20528       1994  kenzou tenma renown japanes neurosurgeon work ...   \n",
       "\n",
       "   serialization  reading  completed  dropped  plan_to_read  genre  group  \n",
       "0            221   364280      87307    10263        154118    3.0      2  \n",
       "1            210    34922     162358     2141         50652    8.0      6  \n",
       "2            161   108564      81383     5054        145679    3.0      2  \n",
       "3            189   465243      30242    18817         46908   10.0      2  \n",
       "4             19    33413      94357     2754         97297    3.0      6  "
      ]
     },
     "execution_count": 110,
     "metadata": {},
     "output_type": "execute_result"
    }
   ],
   "source": [
    "series=pd.Series(k_mean(7))\n",
    "df['group']=series #thêm cột series vào data tên group\n",
    "df.head()"
   ]
  },
  {
   "cell_type": "markdown",
   "id": "87b52376-3f0f-4ae9-98ec-3cc3e2f1ce6d",
   "metadata": {},
   "source": [
    "**Ưu Nhược điểm của thuật toán**\n",
    "\n",
    "- Ưu: Nhanh chóng và dễ dàng mở rộng.\n",
    "\n",
    "- Nhược: Dễ gặp cực tiểu địa phương, phải chỉ rõ số cụm cần gom nhóm, không hiệu quả nếu dữ liệu nằm ở các nhóm có kích thước đa dạng,hay đa dạng trong tính tập trung dữ liệu và các nhóm không có tập trung theo dạng hình cầu"
   ]
  },
  {
   "cell_type": "markdown",
   "id": "6467e322-a44c-45d7-b53c-9297b3e31be0",
   "metadata": {
    "jp-MarkdownHeadingCollapsed": true
   },
   "source": [
    "### DBSCAN\n",
    "\n",
    "Cách tiếp cận của thuật toán cho phép xác định cluster của hình dáng bất kỳ (thay vì chỉ tốt ở hình cầu như K-means)\n",
    "\n",
    "- Với khoảng cách cho trước, thuật toán đếm có bao nhiêu điểm trong cùng 1 khoảng cách $\\epsilon$ từ điểm đó. Vùng này gọi là $\\epsilon$-neighborhood của điểm đó.\n",
    "\n",
    "- Nếu điểm đó có ít nhất min_samples điểm trong vùng $\\epsilon$-neighborhood (bao gồm bản thân), thì sẽ được gọi là điểm core. Tức điểm core là điểm nằm ở các vùng có mật độ cao.\n",
    "\n",
    "- Tất cả điểm trong neighborhood của điểm core thuộc cùng 1 cluster.\n",
    "\n",
    "- Tất cả điểm không là điểm core và không có 1 điểm nào thuộc neighborhood của nó thì xem là điểm bất thường.\n",
    "\n",
    "*thuật toán hoạt động tốt khi các cluster có mật độ đủ cao, và có thể tách biệt bởi các vùng có mật độ thấp*"
   ]
  },
  {
   "cell_type": "code",
   "execution_count": 183,
   "id": "b285ac14-39a1-4d26-bc35-e6388b390a90",
   "metadata": {},
   "outputs": [
    {
     "data": {
      "text/plain": [
       "array([-1, -1, -1, -1, -1, -1, -1, -1, -1, -1, -1, -1, -1, -1, -1, -1, -1,\n",
       "       -1, -1, -1, -1, -1, -1, -1, -1, -1, -1, -1, -1, -1, -1, -1, -1,  0,\n",
       "       -1,  1, -1, -1,  0, -1, -1, -1, -1, -1, -1, -1,  1, -1, -1, -1, -1,\n",
       "       -1, -1, -1, -1,  1,  1, -1, -1,  1, -1,  1,  1, -1, -1, -1, -1,  1,\n",
       "        1, -1,  1, -1,  1, -1,  2, -1, -1,  1, -1,  1, -1, -1, -1,  1, -1,\n",
       "        1,  1, -1, -1, -1, -1, -1, -1,  3,  1,  2, -1,  3,  1,  1,  1,  1,\n",
       "        1,  1,  1,  1,  1, -1,  1,  4,  1,  1,  5, -1, -1, -1, -1,  1,  1,\n",
       "        5, -1, -1,  1, -1,  1, -1, -1,  6,  1,  7,  1, -1,  1,  1,  1,  1,\n",
       "       -1,  1,  2, -1, -1, -1,  1,  7, -1,  1,  1, -1, -1,  4, -1, -1, -1,\n",
       "        1,  3, -1,  8, -1,  1,  6,  4,  1, -1, -1, -1,  9,  1,  1, -1, 10,\n",
       "        1,  1,  1,  1,  1, -1,  1, 10,  9,  1, -1, -1,  1,  1,  1, -1, -1,\n",
       "        1,  1,  1, -1, -1,  1,  1,  1,  1,  1,  1,  1,  1,  1,  1,  1,  8,\n",
       "        1,  1, -1,  8,  1,  1,  1,  1,  1, -1,  1,  1, -1, -1,  1, -1, -1,\n",
       "        1,  1, -1, -1, -1,  1,  1,  1, 11,  1,  1, -1,  1, -1,  1, -1,  1,\n",
       "        1,  1,  1, -1, -1,  1,  1,  1, -1,  1,  1,  1, -1,  1,  1,  1,  1,\n",
       "       -1,  1,  1, -1,  1, -1,  1,  1,  1,  1, -1,  1,  2,  1,  1, -1,  1,\n",
       "       -1,  1,  1,  1,  1, -1,  1,  1, -1,  1,  1, -1,  1,  1, -1,  1,  1,\n",
       "        1,  1,  1,  1, -1,  1,  1,  1, -1, -1,  1,  1,  1,  1,  1,  1,  1,\n",
       "       -1, -1,  1, 12, 12,  1,  1, 13, -1,  1,  1,  1, -1,  1, -1, 13,  1,\n",
       "        1,  9,  1,  1,  1,  1,  1, -1, -1,  1,  1,  1, -1,  1,  1, 14,  1,\n",
       "        1,  1,  1,  1,  1, -1,  1,  1, 11,  1, -1,  1,  1,  1,  1, -1,  1,\n",
       "       -1, -1,  1,  1, 15,  1,  1,  1, 16,  1, 14,  1,  1,  1,  1,  1,  1,\n",
       "        1, -1,  1,  1,  1, -1,  1,  1, -1,  1, -1,  1, -1, -1, -1, -1,  1,\n",
       "        1, -1,  1,  1, 17,  1,  1, 17, 13, 12,  1,  1, 16,  1,  1, 18,  1,\n",
       "       -1,  1, -1,  1,  1,  1,  1,  1,  1,  1,  1,  1, -1, -1, 19, -1, 14,\n",
       "       -1,  1,  1,  1,  1, -1,  1,  1,  1,  1, -1, 15, -1,  1,  1,  1,  1,\n",
       "       -1, -1,  1,  1,  1,  1,  1,  1,  1,  1,  1,  1,  1, 18,  1,  1, -1,\n",
       "        1,  1, -1,  1,  1, -1,  1,  1,  1,  1,  1,  1,  1,  1,  1, -1, -1,\n",
       "        1,  1,  1,  1,  1,  1, -1,  1,  1,  1,  1,  1, -1,  1, -1,  1,  1,\n",
       "        1,  1,  1,  1,  1, -1,  1,  1,  1,  1,  1,  1, -1,  1,  1,  1,  1,\n",
       "        1, 20, -1,  1, -1, -1,  1,  1,  1, 21, 20, -1,  1,  1,  1,  1,  1,\n",
       "        1,  1,  1,  1,  1,  1,  1,  1, -1,  1,  1,  1,  1,  1,  1,  1,  1,\n",
       "        1, -1,  1,  1,  1,  1,  1, -1,  1,  1, 22,  1,  1,  1, -1,  1,  1,\n",
       "        1,  1, -1,  1,  1,  1,  1,  1,  1,  1,  1, -1,  1,  1, 19, 23,  1,\n",
       "        1,  1, -1, -1, -1, 24, -1, 25,  1,  1,  1, 22, 26, 19, 23,  1,  1,\n",
       "        1, -1,  1,  1, -1,  1,  1,  1,  1,  1,  1,  1, -1,  1,  1,  1, -1,\n",
       "        1,  1,  1, -1, 25, -1,  1,  1, -1,  1,  1,  1,  1,  1,  1, -1, -1,\n",
       "        1,  1,  1,  1,  1,  1,  1,  1,  1, 21,  1, -1,  1,  1,  1, -1,  1,\n",
       "        1,  1,  1,  1,  1,  1,  1, -1, -1,  1,  1,  1,  1, -1,  1,  1,  1,\n",
       "        1,  1,  1,  1, -1, -1,  1,  1,  1,  1,  1, -1,  1, -1,  1,  1,  1,\n",
       "        1,  1,  1,  1,  1, -1,  1, 27,  1,  1,  1,  1,  1,  1,  1,  1,  1,\n",
       "        1, -1,  1, -1,  1,  1,  1,  1,  1,  1,  1,  1,  1,  1,  1,  1,  1,\n",
       "        1,  1, -1,  1,  1,  1,  1,  1,  1, -1, -1,  1, -1,  1,  1,  1,  1,\n",
       "        1, 24,  1, -1,  1,  1,  1,  1, 28,  1,  1, -1,  1,  1,  1, -1, -1,\n",
       "        1,  1,  1,  1,  1,  1,  1,  1,  1, 29,  1,  1,  1,  1,  1, -1,  1,\n",
       "        1,  1,  1, 29,  1,  1, -1,  1, -1, 26,  1,  1,  1,  1,  1,  1,  1,\n",
       "        1,  1, -1,  1,  1,  1,  1,  1, -1,  1,  1,  1,  1,  1,  1,  1, -1,\n",
       "       -1,  1,  1,  1,  1,  1,  1,  1, 28,  1,  1,  1,  1,  1,  1, -1,  1,\n",
       "        1,  1,  1,  1,  1,  1,  1, -1,  1,  1,  1,  1,  1,  1,  1, -1,  1,\n",
       "        1,  1,  1,  1,  1,  1,  1,  1,  1,  1,  1,  1,  1,  1,  1,  1,  1,\n",
       "        1,  1, 27,  1,  1,  1,  1,  1,  1,  1,  1, -1,  1,  1,  1,  1,  1,\n",
       "        1, 30, 30,  1,  1,  1,  1,  1,  1,  1,  1,  1,  1,  1, -1,  1,  1,\n",
       "        1,  1, -1,  1,  1,  1,  1,  1, -1,  1,  1,  1,  1, -1, -1,  1,  1,\n",
       "        1,  1,  1,  1,  1,  1,  1,  1,  1,  1,  1, -1,  1,  1, -1,  1,  1,\n",
       "        1,  1, -1,  1,  1,  1,  1,  1,  1,  1,  1,  1, -1,  1,  1, -1,  1,\n",
       "        1,  1,  1, -1,  1,  1,  1,  1,  1, -1,  1,  1,  1,  1,  1,  1,  1,\n",
       "       -1,  1,  1,  1,  1,  1,  1,  1,  1, 31,  1,  1,  1,  1,  1,  1, 30,\n",
       "       -1,  1,  1,  1,  1, -1,  1,  1, -1,  1,  1,  1, 27,  1,  1,  1,  1,\n",
       "        1,  1,  1, -1,  1, 31,  1, -1,  1,  1,  1,  1, -1,  1],\n",
       "      dtype=int64)"
      ]
     },
     "execution_count": 183,
     "metadata": {},
     "output_type": "execute_result"
    }
   ],
   "source": [
    "dbscan=DBSCAN(eps=1,min_samples=2)\n",
    "dbscan.fit(X_scaled)\n",
    "dbscan.labels_"
   ]
  },
  {
   "cell_type": "code",
   "execution_count": 185,
   "id": "533a84fc-8d57-450a-8b8c-c672f674d189",
   "metadata": {},
   "outputs": [
    {
     "data": {
      "text/plain": [
       "array([-1,  0, -1, -1,  1,  2, -1,  0,  2, -1,  2,  2,  1,  2,  2,  2,  2,\n",
       "        2,  2,  0,  2,  2,  2,  2,  2,  2,  2,  2,  3, -1,  2,  2,  2,  2,\n",
       "        2,  2, -1,  2,  2,  2,  2,  2,  2,  2,  2,  2,  2,  2,  2,  2,  2,\n",
       "        2,  2,  2,  2,  2,  2,  2,  2,  2,  2,  2,  2,  2,  2,  2,  2,  2,\n",
       "        2,  2,  2,  2,  2,  2,  2,  2,  3,  2, -1,  2,  2,  3,  2,  2,  2,\n",
       "        2,  2, -1,  2,  2,  2,  2,  2,  2,  2,  2,  2,  2,  2,  2,  2,  2,\n",
       "        2,  2,  2,  2,  2,  2,  2,  2,  2,  2,  2,  2,  2,  2,  2,  2,  2,\n",
       "        2,  2,  2,  2,  2,  2,  2,  2,  2,  2,  2,  2, -1,  2,  2,  2,  2,\n",
       "        2,  2,  2,  2,  2,  2,  2,  2,  2,  2,  2,  2,  2,  2,  2,  2,  2,\n",
       "        2,  2,  2,  2,  2,  2,  2,  2,  2,  2,  2,  2,  2,  2,  2,  2,  2,\n",
       "        2,  2,  2,  2,  2,  2,  2,  2,  2,  2,  2,  2,  2,  2,  2,  2,  2,\n",
       "        2,  2,  2,  2,  2,  2,  2,  2,  2,  2,  2,  2,  2,  2,  2,  2,  2,\n",
       "        2,  2,  2,  2,  2,  2,  2,  2,  2,  2,  2,  2,  2,  2,  2,  2,  2,\n",
       "        2,  2,  2,  2,  2,  2,  2,  2,  2,  2,  2,  2,  2,  2,  2,  2,  2,\n",
       "        2,  2,  2,  2,  2,  2,  2,  2,  2,  2,  2,  2,  2,  2,  2,  2,  2,\n",
       "        2,  2,  2,  2,  2,  2,  2,  2,  2,  2,  2,  2,  2,  2,  2,  2,  2,\n",
       "        2,  2,  2,  2,  2,  2,  2,  2,  2,  2,  2,  2,  2,  2,  2,  2,  2,\n",
       "        2,  2,  2,  2,  2,  2,  2,  2, -1,  2,  2,  2,  2,  2,  2,  2,  2,\n",
       "        2,  2,  2,  2,  2,  2,  2,  2,  2,  2,  2,  2,  2,  2,  2,  2,  2,\n",
       "        2,  2,  2,  2,  2,  2,  2,  2,  2,  2,  2,  2,  2,  2,  2,  2,  2,\n",
       "        2,  2,  2,  2,  2,  2,  2,  2,  2,  2,  2,  2,  2,  2,  2,  2,  2,\n",
       "        2,  2,  2,  2,  2,  2,  2,  2,  2,  2,  2,  2,  2,  2,  2,  2,  2,\n",
       "        2,  2,  2,  2,  2,  2,  2,  2,  2,  2, -1,  2,  2,  2,  2,  2,  2,\n",
       "        2,  2,  2,  2,  2,  2,  2,  2,  2,  2,  2,  2,  2,  2,  2,  2,  2,\n",
       "        2,  2,  2,  2,  2,  2,  2,  2,  2,  2,  2,  2,  2,  2,  2,  2,  2,\n",
       "        2,  2,  2,  2,  2,  2,  2,  2,  2,  2,  2,  2,  2,  2,  2,  2,  2,\n",
       "        2,  2,  2,  2,  2,  2,  2,  2,  2,  2,  2,  2,  2,  2,  2,  2, -1,\n",
       "        2,  2,  2,  2,  2, -1,  2,  2,  2,  2,  2,  2,  2,  2,  2,  2,  2,\n",
       "        2,  2,  2,  2,  2,  2,  2,  2,  2,  2,  2,  2,  2,  2,  2,  2,  2,\n",
       "        2,  2,  2,  2,  2,  2,  2,  2,  2,  2,  2,  2,  2,  2,  2,  2,  2,\n",
       "        2,  2,  2,  2,  2,  2,  2,  2,  2,  2,  2,  2,  2,  2,  2,  2,  2,\n",
       "        2,  2,  2,  2,  2,  2,  2,  2,  2,  2,  2,  2,  2,  2,  2,  2,  2,\n",
       "        2,  2,  2,  2,  2,  2,  2,  2,  2,  2,  2,  2,  2,  2,  2,  2,  2,\n",
       "        2,  2,  2,  2,  2,  2,  2,  2,  2,  2,  2,  2,  2,  2,  2,  2,  2,\n",
       "        2,  2,  2,  2,  2,  2,  2,  2,  2,  2,  2,  2,  2,  2,  2,  2,  2,\n",
       "        2,  2,  2,  2,  2,  2,  2,  2,  2,  2,  2,  2,  2,  2,  2,  2,  2,\n",
       "        2,  2,  2,  2,  2,  2,  2,  2,  2,  2,  2,  2,  2,  2,  2,  2,  2,\n",
       "        2,  2,  2,  2,  2,  2,  2,  2,  2,  2,  2,  2,  2,  2,  2,  2,  2,\n",
       "        2,  2,  2,  2,  2,  2,  2,  2,  2,  2,  2,  2,  2,  2,  2,  2,  2,\n",
       "        2,  2,  2,  2,  2,  2,  2,  2,  2,  2,  2,  2,  2,  2,  2,  2,  2,\n",
       "        2,  2,  2,  2,  2,  2,  2,  2,  2,  2,  2,  2,  2,  2,  2,  2,  2,\n",
       "        2,  2,  2,  2,  2,  2,  2,  2,  2,  2,  2,  2,  2,  2,  2,  2,  2,\n",
       "        2,  2,  2,  2,  2,  2,  2,  2,  2,  2,  2,  2,  2,  2,  2,  2,  2,\n",
       "        2,  2,  2,  2,  2,  2,  2,  2,  2,  2,  2,  2,  2,  2,  2,  2,  2,\n",
       "        2,  2,  2,  2,  2,  2,  2,  2,  2,  2,  2,  2,  2,  2,  2,  2,  2,\n",
       "        2,  2,  2,  2,  2,  2,  2,  2,  2,  2,  2,  2,  2,  2,  2,  2,  2,\n",
       "        2,  2,  2,  2,  2,  2,  2,  2,  2,  2,  2,  2,  2,  2,  2,  2,  2,\n",
       "        2,  2,  2,  2,  2,  2,  2,  2,  2,  2,  2,  2,  2,  2,  2,  2,  2,\n",
       "        2,  2,  2,  2,  2,  2,  2, -1,  2,  2,  2,  2,  2,  2,  2,  2,  2,\n",
       "        2,  2,  2,  2,  2,  2,  2,  2,  2,  2,  2,  2,  2,  2,  2,  2,  2,\n",
       "        2,  2,  2,  2,  2,  2,  2,  2,  2,  2,  2,  2,  2,  2,  2,  2,  2,\n",
       "        2,  2,  2,  2,  2,  2,  2,  2,  2,  2,  2,  2,  2,  2,  2,  2,  2,\n",
       "        2,  2,  2,  2,  2,  2,  2,  2,  2,  2,  2,  2,  2, -1,  2,  2,  2,\n",
       "        2,  2,  2,  2,  2,  2,  2,  2,  2,  2,  2,  2,  2,  2,  2,  2,  2,\n",
       "        2,  2,  2,  2,  2,  2,  2,  2,  2,  2,  2,  2,  2,  2,  2,  2,  2,\n",
       "        2,  2,  2,  2,  2,  2,  2,  2,  2,  2,  2,  2,  2,  2,  2,  2,  2,\n",
       "        2,  2,  2,  2,  2,  2,  2,  2,  2,  2,  2,  2,  2,  2,  2,  2,  2,\n",
       "        2,  2,  2,  2,  2,  2,  2,  2,  2,  2,  2,  2,  2,  2,  2,  2,  2,\n",
       "        2,  2,  2,  2,  2,  2,  2,  2,  2,  2,  2,  2,  2,  2],\n",
       "      dtype=int64)"
      ]
     },
     "execution_count": 185,
     "metadata": {},
     "output_type": "execute_result"
    }
   ],
   "source": [
    "dbscan=DBSCAN(eps=3,min_samples=2)\n",
    "dbscan.fit(X_scaled)\n",
    "dbscan.labels_"
   ]
  },
  {
   "cell_type": "markdown",
   "id": "71ef9680-35f6-4a4e-9c13-6e7f4e8b5911",
   "metadata": {},
   "source": [
    "**Thuật toán** Không thích hợp cho dữ liệu này vì dữ liệu chúng ta không tách biệt tốt bởi các vùng mật độ thấp. Nếu $\\epsilon$ thấp thì đa số điểm là điểm dị thường còn nếu $\\epsilon$ cao thì đa số dữ liệu chỉ tách biệt từ 1-2 cluster"
   ]
  },
  {
   "cell_type": "markdown",
   "id": "db85ed60-d261-4b4b-8d7b-3cf081f63480",
   "metadata": {},
   "source": [
    "### Gaussian Mixtures"
   ]
  },
  {
   "cell_type": "code",
   "execution_count": null,
   "id": "26b78cd4-c154-4380-86b3-b48c7aabbca0",
   "metadata": {},
   "outputs": [],
   "source": []
  }
 ],
 "metadata": {
  "kernelspec": {
   "display_name": "Python 3 (ipykernel)",
   "language": "python",
   "name": "python3"
  },
  "language_info": {
   "codemirror_mode": {
    "name": "ipython",
    "version": 3
   },
   "file_extension": ".py",
   "mimetype": "text/x-python",
   "name": "python",
   "nbconvert_exporter": "python",
   "pygments_lexer": "ipython3",
   "version": "3.11.5"
  }
 },
 "nbformat": 4,
 "nbformat_minor": 5
}
